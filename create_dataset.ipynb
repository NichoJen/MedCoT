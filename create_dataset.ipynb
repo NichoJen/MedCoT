{
 "cells": [
  {
   "metadata": {
    "ExecuteTime": {
     "end_time": "2024-09-12T16:09:35.271411Z",
     "start_time": "2024-09-12T16:08:51.952364Z"
    }
   },
   "cell_type": "code",
   "source": [
    "from datasets import load_dataset\n",
    "\n",
    "dataset = load_dataset(\"openlifescienceai/medmcqa\", split=\"train\")"
   ],
   "id": "ce29e9df9df99813",
   "outputs": [
    {
     "name": "stderr",
     "output_type": "stream",
     "text": [
      "Found cached dataset parquet (C:/Users/Nicho/.cache/huggingface/datasets/openlifescienceai___parquet/openlifescienceai--medmcqa-a13cf87d3a0c027d/0.0.0/14a00e99c0d15a23649d0db8944380ac81082d4b021f398733dd84f3a6c569a7)\n"
     ]
    }
   ],
   "execution_count": 1
  },
  {
   "metadata": {
    "ExecuteTime": {
     "end_time": "2024-09-12T16:09:35.333680Z",
     "start_time": "2024-09-12T16:09:35.317681Z"
    }
   },
   "cell_type": "code",
   "source": "print(dataset)",
   "id": "a56596bcf3764b42",
   "outputs": [
    {
     "name": "stdout",
     "output_type": "stream",
     "text": [
      "Dataset({\n",
      "    features: ['id', 'question', 'opa', 'opb', 'opc', 'opd', 'cop', 'choice_type', 'exp', 'subject_name', 'topic_name'],\n",
      "    num_rows: 182822\n",
      "})\n"
     ]
    }
   ],
   "execution_count": 2
  },
  {
   "metadata": {
    "ExecuteTime": {
     "end_time": "2024-09-12T16:09:35.413870Z",
     "start_time": "2024-09-12T16:09:35.379194Z"
    }
   },
   "cell_type": "code",
   "source": [
    "# filter for single choice questions and Pathology as subject\n",
    "filtered_dataset = dataset.filter(lambda example: example['subject_name'] == 'Pathology' and \n",
    "                                  example['choice_type'] == 'single')\n",
    "print(f\"nubmer of examples: {len(filtered_dataset)}\")"
   ],
   "id": "1626df8a5a3cf99a",
   "outputs": [
    {
     "name": "stderr",
     "output_type": "stream",
     "text": [
      "Loading cached processed dataset at C:\\Users\\Nicho\\.cache\\huggingface\\datasets\\openlifescienceai___parquet\\openlifescienceai--medmcqa-a13cf87d3a0c027d\\0.0.0\\14a00e99c0d15a23649d0db8944380ac81082d4b021f398733dd84f3a6c569a7\\cache-493c365cada9b43f.arrow\n"
     ]
    },
    {
     "name": "stdout",
     "output_type": "stream",
     "text": [
      "nubmer of examples: 9922\n"
     ]
    }
   ],
   "execution_count": 3
  },
  {
   "metadata": {
    "ExecuteTime": {
     "end_time": "2024-09-12T16:09:35.671826Z",
     "start_time": "2024-09-12T16:09:35.616266Z"
    }
   },
   "cell_type": "code",
   "source": [
    "# filter for examples with explanations of at least 200 characters\n",
    "filtered_dataset = filtered_dataset.filter(lambda example: len(str(example['exp'])) >= 200)\n",
    "print(f\"nubmer of examples: {len(filtered_dataset)}\")"
   ],
   "id": "90863e292dccb9ed",
   "outputs": [
    {
     "name": "stderr",
     "output_type": "stream",
     "text": [
      "Loading cached processed dataset at C:\\Users\\Nicho\\.cache\\huggingface\\datasets\\openlifescienceai___parquet\\openlifescienceai--medmcqa-a13cf87d3a0c027d\\0.0.0\\14a00e99c0d15a23649d0db8944380ac81082d4b021f398733dd84f3a6c569a7\\cache-797ab1fff76a30e6.arrow\n"
     ]
    },
    {
     "name": "stdout",
     "output_type": "stream",
     "text": [
      "nubmer of examples: 6328\n"
     ]
    }
   ],
   "execution_count": 4
  },
  {
   "metadata": {
    "ExecuteTime": {
     "end_time": "2024-09-12T16:10:41.762432Z",
     "start_time": "2024-09-12T16:10:37.160210Z"
    }
   },
   "cell_type": "code",
   "source": [
    "import pandas as pd\n",
    "df_filtered = pd.DataFrame(filtered_dataset)"
   ],
   "id": "94fc2e5f57778203",
   "outputs": [],
   "execution_count": 5
  },
  {
   "metadata": {
    "ExecuteTime": {
     "end_time": "2024-09-12T16:10:49.488155Z",
     "start_time": "2024-09-12T16:10:42.614333Z"
    }
   },
   "cell_type": "code",
   "source": [
    "# plot distribution of correct answer options\n",
    "import matplotlib.pyplot as plt\n",
    "df_filtered['cop'].value_counts().plot(kind='pie', autopct='%1.1f%%', startangle=90)\n",
    "plt.ylabel('')  # Hide the y-label\n",
    "plt.title('correct answer distribution')\n",
    "plt.show()"
   ],
   "id": "6892f1f445c9a437",
   "outputs": [
    {
     "data": {
      "text/plain": [
       "<Figure size 640x480 with 1 Axes>"
      ],
      "image/png": "[encoded data removed]"
     },
     "metadata": {},
     "output_type": "display_data"
    }
   ],
   "execution_count": 6
  },
  {
   "metadata": {},
   "cell_type": "markdown",
   "source": "The correct option distribution isn't completely even ",
   "id": "2789eed0183cef9e"
  },
  {
   "metadata": {},
   "cell_type": "markdown",
   "source": "## Getting equally sized quadrants for exp length",
   "id": "da7eb321016c8444"
  },
  {
   "metadata": {
    "ExecuteTime": {
     "end_time": "2024-09-12T16:10:49.628339Z",
     "start_time": "2024-09-12T16:10:49.607041Z"
    }
   },
   "cell_type": "code",
   "source": [
    "# Calculate explanation lengths\n",
    "df_filtered['exp_length'] = df_filtered['exp'].apply(len)"
   ],
   "id": "109abbaabc41a17c",
   "outputs": [],
   "execution_count": 7
  },
  {
   "metadata": {
    "ExecuteTime": {
     "end_time": "2024-09-12T16:10:51.620989Z",
     "start_time": "2024-09-12T16:10:50.130605Z"
    }
   },
   "cell_type": "code",
   "source": [
    "expl_length_stats = df_filtered['exp_length'].describe()\n",
    "expl_length_stats\n"
   ],
   "id": "7067fd2c4d897be7",
   "outputs": [
    {
     "data": {
      "text/plain": [
       "count    6328.000000\n",
       "mean      721.140171\n",
       "std       605.342613\n",
       "min       200.000000\n",
       "25%       349.000000\n",
       "50%       545.000000\n",
       "75%       855.250000\n",
       "max      7037.000000\n",
       "Name: exp_length, dtype: float64"
      ]
     },
     "execution_count": 8,
     "metadata": {},
     "output_type": "execute_result"
    }
   ],
   "execution_count": 8
  },
  {
   "metadata": {
    "ExecuteTime": {
     "end_time": "2024-09-12T16:10:51.914765Z",
     "start_time": "2024-09-12T16:10:51.828546Z"
    }
   },
   "cell_type": "code",
   "source": [
    "# create splits\n",
    "df_filtered['quantile'] = pd.qcut(df_filtered['exp_length'], q=4, labels=False)\n",
    "quantiles = [df_filtered[df_filtered['quantile'] == i] for i in range(4)]\n",
    "df_q1 = quantiles[0]\n",
    "df_q2 = quantiles[1]\n",
    "df_q3 = quantiles[2]\n",
    "df_q4 = quantiles[3]"
   ],
   "id": "fee100e15c090153",
   "outputs": [],
   "execution_count": 9
  },
  {
   "metadata": {
    "ExecuteTime": {
     "end_time": "2024-09-12T16:10:52.024398Z",
     "start_time": "2024-09-12T16:10:52.002742Z"
    }
   },
   "cell_type": "code",
   "source": [
    "print(\"Q1 size: \",len(quantiles[0]))\n",
    "print(\"Q2 size: \",len(quantiles[1]))\n",
    "print(\"Q3 size: \",len(quantiles[2]))\n",
    "print(\"Q4 size: \",len(quantiles[3]))"
   ],
   "id": "95661faa4b062bdb",
   "outputs": [
    {
     "name": "stdout",
     "output_type": "stream",
     "text": [
      "Q1 size:  1587\n",
      "Q2 size:  1583\n",
      "Q3 size:  1576\n",
      "Q4 size:  1582\n"
     ]
    }
   ],
   "execution_count": 10
  },
  {
   "metadata": {
    "ExecuteTime": {
     "end_time": "2024-09-12T16:10:52.164189Z",
     "start_time": "2024-09-12T16:10:52.076084Z"
    }
   },
   "cell_type": "code",
   "source": [
    "# sample from subsets with equal cop (correct answer options) distribution\n",
    "# 4 options; sample 15 from each option -> 60 total\n",
    "q1_samples = df_q1.groupby('cop').sample(n=15, random_state=1)\n",
    "q2_samples = df_q2.groupby('cop').sample(n=15, random_state=1)\n",
    "q3_samples = df_q3.groupby('cop').sample(n=15, random_state=1)\n",
    "q4_samples = df_q4.groupby('cop').sample(n=15, random_state=1)"
   ],
   "id": "1a81fa734968d110",
   "outputs": [],
   "execution_count": 11
  },
  {
   "metadata": {
    "ExecuteTime": {
     "end_time": "2024-09-12T16:51:11.511895Z",
     "start_time": "2024-09-12T16:51:08.745735Z"
    }
   },
   "cell_type": "code",
   "source": [
    "# merge samples and write to csv\n",
    "medmcqa_subset = pd.concat([q1_samples, q2_samples, q3_samples, q4_samples], axis=0)\n",
    "medmcqa_subset.to_csv('data/medmcqa_subset.csv')"
   ],
   "id": "9decb5f70d245d46",
   "outputs": [],
   "execution_count": 18
  },
  {
   "metadata": {
    "ExecuteTime": {
     "end_time": "2024-09-12T16:10:52.305637Z",
     "start_time": "2024-09-12T16:10:52.239336Z"
    }
   },
   "cell_type": "code",
   "source": "medmcqa_subset",
   "id": "d640287553ba2ccc",
   "outputs": [
    {
     "data": {
      "text/plain": [
       "                                        id   \n",
       "3788  34c05134-495c-4958-b119-4e7a760dfc5d  \\\n",
       "4342  a9c08579-1a3d-4cd5-8cb4-abf542af2cf4   \n",
       "574   f62de10a-2874-4e17-a616-ea94be87cd30   \n",
       "876   b12fd27f-85d6-4b32-b59d-aea4201280cb   \n",
       "4539  6b6997dd-d219-4677-bb2e-049e3f1344aa   \n",
       "...                                    ...   \n",
       "543   8e17ad95-a764-4105-ba2b-0d1b804ace27   \n",
       "803   59aa61ee-d6ce-43cb-84cf-8c80acda7359   \n",
       "2534  91eda14d-2b63-4bcc-941d-5844c1f62ac1   \n",
       "4421  9c88f28e-2309-4836-b85e-60a3cabca12c   \n",
       "4341  d35ca4ff-f2d8-435e-bc27-1a7055d1a8e9   \n",
       "\n",
       "                                               question   \n",
       "3788     Role of macrophages in antibody production is?  \\\n",
       "4342  Hereditary retinoblastoma develop as a result ...   \n",
       "574   A 11-year-old boy came with history of cough f...   \n",
       "876                              Source of vitamin B12?   \n",
       "4539  Histologic sections of skin from an area of su...   \n",
       "...                                                 ...   \n",
       "543   A 70 year old alcoholic presents with abdomina...   \n",
       "803   A 36-year-old woman presents with a 6-month hi...   \n",
       "2534  Although more than 400 blood groups have been ...   \n",
       "4421  In hemophiliac patients, which of the followin...   \n",
       "4341  Cell mediated immune response is which type of...   \n",
       "\n",
       "                                                    opa   \n",
       "3788                               Antigen presentation  \\\n",
       "4342                                             13q 14   \n",
       "574                                        Tuberculosis   \n",
       "876                                       Animal source   \n",
       "4539                                    Epidermal edema   \n",
       "...                                                 ...   \n",
       "543                                    Serum calcitonin   \n",
       "803                           Central hyaline sclerosis   \n",
       "2534  It was the first blood group system to be disc...   \n",
       "4421                            Factor VIII concentrate   \n",
       "4341                                                  I   \n",
       "\n",
       "                                                    opb   \n",
       "3788                                  B cell production  \\\n",
       "4342                                             13p 14   \n",
       "574                                             Leprosy   \n",
       "876                                        Plant source   \n",
       "4539                            Intraepidermal vesicles   \n",
       "...                                                 ...   \n",
       "543                                              CA19-9   \n",
       "803                                  Cholangiocarcinoma   \n",
       "2534  It has four different blood groups A,B, AB, O ...   \n",
       "4421                                    Cryoprecipitate   \n",
       "4341                                                 II   \n",
       "\n",
       "                                                    opc   \n",
       "3788                                    Class switching  \\\n",
       "4342                                             14p 13   \n",
       "574                                         Sarcoidosis   \n",
       "876                                                Milk   \n",
       "4539                 Full-thickness epithelial necrosis   \n",
       "...                                                 ...   \n",
       "543                                Alkaline phosphatase   \n",
       "803                                       Hemosiderosis   \n",
       "2534  ABO(H) antigens are present in most body tissu...   \n",
       "4421                                               EACA   \n",
       "4341                                                III   \n",
       "\n",
       "                                                    opd  cop choice_type   \n",
       "3788                                  B cell activation    0      single  \\\n",
       "4342                                             14q 13    0      single   \n",
       "574                                            Syphilis    0      single   \n",
       "876                                              Fruits    0      single   \n",
       "4539                            Partial dermal necrosis    0      single   \n",
       "...                                                 ...  ...         ...   \n",
       "543                                   Alpha-fetoprotein    3      single   \n",
       "803                       Intrahepatic bile duct damage    3      single   \n",
       "2534  ABO(H) antibodies are invariably present in pl...    3      single   \n",
       "4421                                    Platelet factor    3      single   \n",
       "4341                                                 IV    3      single   \n",
       "\n",
       "                                                    exp subject_name   \n",
       "3788  Ans. (a.) Antigen presentation(Ref: Robbins 9t...    Pathology  \\\n",
       "4342  Hereditary retinoblastomas develop from the de...    Pathology   \n",
       "574   Cavitation occurs only in secondary tuberculos...    Pathology   \n",
       "876   Ans. (a) Animal SourceRef: Harrison / 640Only ...    Pathology   \n",
       "4539  First-degree burns, such as with a sunburn, ar...    Pathology   \n",
       "...                                                 ...          ...   \n",
       "543   Answer: d) Alpha-fetoprotein (ROBBINS 9th ED, ...    Pathology   \n",
       "803   Primary biliary cirrhosis (nonsuppurative dest...    Pathology   \n",
       "2534  The basic difference between the ABO blood gro...    Pathology   \n",
       "4421  Antifibrinolytic Drugs:\\nBleeding in the gum, ...    Pathology   \n",
       "4341  Type 4 or delayed hypersensitivity reaction is...    Pathology   \n",
       "\n",
       "                               topic_name  exp_length  quantile  \n",
       "3788                             Immunity         332         0  \n",
       "4342                                 None         307         0  \n",
       "574                         NEET Jan 2020         281         0  \n",
       "876   Environment & Nutritional Pathology         315         0  \n",
       "4539                                 None         261         0  \n",
       "...                                   ...         ...       ...  \n",
       "543                 Liver & Biliary Tract        1047         3  \n",
       "803                 Liver & Biliary Tract        1283         3  \n",
       "2534                                 None        1285         3  \n",
       "4421                                 None        2722         3  \n",
       "4341                    General pathology        1509         3  \n",
       "\n",
       "[240 rows x 13 columns]"
      ],
      "text/html": [
       "<div>\n",
       "<style scoped>\n",
       "    .dataframe tbody tr th:only-of-type {\n",
       "        vertical-align: middle;\n",
       "    }\n",
       "\n",
       "    .dataframe tbody tr th {\n",
       "        vertical-align: top;\n",
       "    }\n",
       "\n",
       "    .dataframe thead th {\n",
       "        text-align: right;\n",
       "    }\n",
       "</style>\n",
       "<table border=\"1\" class=\"dataframe\">\n",
       "  <thead>\n",
       "    <tr style=\"text-align: right;\">\n",
       "      <th></th>\n",
       "      <th>id</th>\n",
       "      <th>question</th>\n",
       "      <th>opa</th>\n",
       "      <th>opb</th>\n",
       "      <th>opc</th>\n",
       "      <th>opd</th>\n",
       "      <th>cop</th>\n",
       "      <th>choice_type</th>\n",
       "      <th>exp</th>\n",
       "      <th>subject_name</th>\n",
       "      <th>topic_name</th>\n",
       "      <th>exp_length</th>\n",
       "      <th>quantile</th>\n",
       "    </tr>\n",
       "  </thead>\n",
       "  <tbody>\n",
       "    <tr>\n",
       "      <th>3788</th>\n",
       "      <td>34c05134-495c-4958-b119-4e7a760dfc5d</td>\n",
       "      <td>Role of macrophages in antibody production is?</td>\n",
       "      <td>Antigen presentation</td>\n",
       "      <td>B cell production</td>\n",
       "      <td>Class switching</td>\n",
       "      <td>B cell activation</td>\n",
       "      <td>0</td>\n",
       "      <td>single</td>\n",
       "      <td>Ans. (a.) Antigen presentation(Ref: Robbins 9t...</td>\n",
       "      <td>Pathology</td>\n",
       "      <td>Immunity</td>\n",
       "      <td>332</td>\n",
       "      <td>0</td>\n",
       "    </tr>\n",
       "    <tr>\n",
       "      <th>4342</th>\n",
       "      <td>a9c08579-1a3d-4cd5-8cb4-abf542af2cf4</td>\n",
       "      <td>Hereditary retinoblastoma develop as a result ...</td>\n",
       "      <td>13q 14</td>\n",
       "      <td>13p 14</td>\n",
       "      <td>14p 13</td>\n",
       "      <td>14q 13</td>\n",
       "      <td>0</td>\n",
       "      <td>single</td>\n",
       "      <td>Hereditary retinoblastomas develop from the de...</td>\n",
       "      <td>Pathology</td>\n",
       "      <td>None</td>\n",
       "      <td>307</td>\n",
       "      <td>0</td>\n",
       "    </tr>\n",
       "    <tr>\n",
       "      <th>574</th>\n",
       "      <td>f62de10a-2874-4e17-a616-ea94be87cd30</td>\n",
       "      <td>A 11-year-old boy came with history of cough f...</td>\n",
       "      <td>Tuberculosis</td>\n",
       "      <td>Leprosy</td>\n",
       "      <td>Sarcoidosis</td>\n",
       "      <td>Syphilis</td>\n",
       "      <td>0</td>\n",
       "      <td>single</td>\n",
       "      <td>Cavitation occurs only in secondary tuberculos...</td>\n",
       "      <td>Pathology</td>\n",
       "      <td>NEET Jan 2020</td>\n",
       "      <td>281</td>\n",
       "      <td>0</td>\n",
       "    </tr>\n",
       "    <tr>\n",
       "      <th>876</th>\n",
       "      <td>b12fd27f-85d6-4b32-b59d-aea4201280cb</td>\n",
       "      <td>Source of vitamin B12?</td>\n",
       "      <td>Animal source</td>\n",
       "      <td>Plant source</td>\n",
       "      <td>Milk</td>\n",
       "      <td>Fruits</td>\n",
       "      <td>0</td>\n",
       "      <td>single</td>\n",
       "      <td>Ans. (a) Animal SourceRef: Harrison / 640Only ...</td>\n",
       "      <td>Pathology</td>\n",
       "      <td>Environment &amp; Nutritional Pathology</td>\n",
       "      <td>315</td>\n",
       "      <td>0</td>\n",
       "    </tr>\n",
       "    <tr>\n",
       "      <th>4539</th>\n",
       "      <td>6b6997dd-d219-4677-bb2e-049e3f1344aa</td>\n",
       "      <td>Histologic sections of skin from an area of su...</td>\n",
       "      <td>Epidermal edema</td>\n",
       "      <td>Intraepidermal vesicles</td>\n",
       "      <td>Full-thickness epithelial necrosis</td>\n",
       "      <td>Partial dermal necrosis</td>\n",
       "      <td>0</td>\n",
       "      <td>single</td>\n",
       "      <td>First-degree burns, such as with a sunburn, ar...</td>\n",
       "      <td>Pathology</td>\n",
       "      <td>None</td>\n",
       "      <td>261</td>\n",
       "      <td>0</td>\n",
       "    </tr>\n",
       "    <tr>\n",
       "      <th>...</th>\n",
       "      <td>...</td>\n",
       "      <td>...</td>\n",
       "      <td>...</td>\n",
       "      <td>...</td>\n",
       "      <td>...</td>\n",
       "      <td>...</td>\n",
       "      <td>...</td>\n",
       "      <td>...</td>\n",
       "      <td>...</td>\n",
       "      <td>...</td>\n",
       "      <td>...</td>\n",
       "      <td>...</td>\n",
       "      <td>...</td>\n",
       "    </tr>\n",
       "    <tr>\n",
       "      <th>543</th>\n",
       "      <td>8e17ad95-a764-4105-ba2b-0d1b804ace27</td>\n",
       "      <td>A 70 year old alcoholic presents with abdomina...</td>\n",
       "      <td>Serum calcitonin</td>\n",
       "      <td>CA19-9</td>\n",
       "      <td>Alkaline phosphatase</td>\n",
       "      <td>Alpha-fetoprotein</td>\n",
       "      <td>3</td>\n",
       "      <td>single</td>\n",
       "      <td>Answer: d) Alpha-fetoprotein (ROBBINS 9th ED, ...</td>\n",
       "      <td>Pathology</td>\n",
       "      <td>Liver &amp; Biliary Tract</td>\n",
       "      <td>1047</td>\n",
       "      <td>3</td>\n",
       "    </tr>\n",
       "    <tr>\n",
       "      <th>803</th>\n",
       "      <td>59aa61ee-d6ce-43cb-84cf-8c80acda7359</td>\n",
       "      <td>A 36-year-old woman presents with a 6-month hi...</td>\n",
       "      <td>Central hyaline sclerosis</td>\n",
       "      <td>Cholangiocarcinoma</td>\n",
       "      <td>Hemosiderosis</td>\n",
       "      <td>Intrahepatic bile duct damage</td>\n",
       "      <td>3</td>\n",
       "      <td>single</td>\n",
       "      <td>Primary biliary cirrhosis (nonsuppurative dest...</td>\n",
       "      <td>Pathology</td>\n",
       "      <td>Liver &amp; Biliary Tract</td>\n",
       "      <td>1283</td>\n",
       "      <td>3</td>\n",
       "    </tr>\n",
       "    <tr>\n",
       "      <th>2534</th>\n",
       "      <td>91eda14d-2b63-4bcc-941d-5844c1f62ac1</td>\n",
       "      <td>Although more than 400 blood groups have been ...</td>\n",
       "      <td>It was the first blood group system to be disc...</td>\n",
       "      <td>It has four different blood groups A,B, AB, O ...</td>\n",
       "      <td>ABO(H) antigens are present in most body tissu...</td>\n",
       "      <td>ABO(H) antibodies are invariably present in pl...</td>\n",
       "      <td>3</td>\n",
       "      <td>single</td>\n",
       "      <td>The basic difference between the ABO blood gro...</td>\n",
       "      <td>Pathology</td>\n",
       "      <td>None</td>\n",
       "      <td>1285</td>\n",
       "      <td>3</td>\n",
       "    </tr>\n",
       "    <tr>\n",
       "      <th>4421</th>\n",
       "      <td>9c88f28e-2309-4836-b85e-60a3cabca12c</td>\n",
       "      <td>In hemophiliac patients, which of the followin...</td>\n",
       "      <td>Factor VIII concentrate</td>\n",
       "      <td>Cryoprecipitate</td>\n",
       "      <td>EACA</td>\n",
       "      <td>Platelet factor</td>\n",
       "      <td>3</td>\n",
       "      <td>single</td>\n",
       "      <td>Antifibrinolytic Drugs:\\nBleeding in the gum, ...</td>\n",
       "      <td>Pathology</td>\n",
       "      <td>None</td>\n",
       "      <td>2722</td>\n",
       "      <td>3</td>\n",
       "    </tr>\n",
       "    <tr>\n",
       "      <th>4341</th>\n",
       "      <td>d35ca4ff-f2d8-435e-bc27-1a7055d1a8e9</td>\n",
       "      <td>Cell mediated immune response is which type of...</td>\n",
       "      <td>I</td>\n",
       "      <td>II</td>\n",
       "      <td>III</td>\n",
       "      <td>IV</td>\n",
       "      <td>3</td>\n",
       "      <td>single</td>\n",
       "      <td>Type 4 or delayed hypersensitivity reaction is...</td>\n",
       "      <td>Pathology</td>\n",
       "      <td>General pathology</td>\n",
       "      <td>1509</td>\n",
       "      <td>3</td>\n",
       "    </tr>\n",
       "  </tbody>\n",
       "</table>\n",
       "<p>240 rows × 13 columns</p>\n",
       "</div>"
      ]
     },
     "execution_count": 13,
     "metadata": {},
     "output_type": "execute_result"
    }
   ],
   "execution_count": 13
  },
  {
   "metadata": {
    "ExecuteTime": {
     "end_time": "2024-09-12T16:10:52.794947Z",
     "start_time": "2024-09-12T16:10:52.415668Z"
    }
   },
   "cell_type": "code",
   "source": [
    "medmcqa_subset['cop'].value_counts().plot(kind='pie', autopct='%1.1f%%', startangle=90)\n",
    "plt.ylabel('')  # Hide the y-label\n",
    "plt.title('correct answer distribution of subset')\n",
    "plt.show()"
   ],
   "id": "74a68c805900e508",
   "outputs": [
    {
     "data": {
      "text/plain": [
       "<Figure size 640x480 with 1 Axes>"
      ],
      "image/png": "[encoded data removed]"
     },
     "metadata": {},
     "output_type": "display_data"
    }
   ],
   "execution_count": 14
  },
  {
   "metadata": {
    "ExecuteTime": {
     "end_time": "2024-09-12T16:10:52.855539Z",
     "start_time": "2024-09-12T16:10:52.839554Z"
    }
   },
   "cell_type": "code",
   "source": [
    "# function to remove rows from df1 that exist in df2\n",
    "def filter_dataframes(df1, df2):\n",
    "    df1_tuples = set(df1.apply(tuple, axis=1))\n",
    "    df2_tuples = set(df2.apply(tuple, axis=1))\n",
    "\n",
    "    filtered_tuples = df1_tuples - df2_tuples\n",
    "    filtered_df = pd.DataFrame(list(filtered_tuples), columns=df1.columns)\n",
    "    \n",
    "    return filtered_df"
   ],
   "id": "c42bcd56d17147b8",
   "outputs": [],
   "execution_count": 15
  },
  {
   "metadata": {
    "ExecuteTime": {
     "end_time": "2024-09-12T16:10:53.103980Z",
     "start_time": "2024-09-12T16:10:52.879483Z"
    }
   },
   "cell_type": "code",
   "source": [
    "# get sample for CoT example candidates \n",
    "# remove samples from quantile subsets\n",
    "df_q1 = filter_dataframes(df_q1, q1_samples)\n",
    "df_q2 = filter_dataframes(df_q2, q2_samples)\n",
    "df_q3 = filter_dataframes(df_q3, q3_samples)\n",
    "df_q4 = filter_dataframes(df_q4, q4_samples)"
   ],
   "id": "9147c2dfcd54737a",
   "outputs": [],
   "execution_count": 16
  },
  {
   "metadata": {
    "ExecuteTime": {
     "end_time": "2024-09-12T16:10:53.428599Z",
     "start_time": "2024-09-12T16:10:53.288730Z"
    }
   },
   "cell_type": "code",
   "source": [
    "# make cot example candidate dataframe\n",
    "# select 10 examples from each quantile\n",
    "candidate_cot_df = pd.concat([df_q1[:10], df_q2[:10], df_q3[:10], df_q4[:10]], axis=0)\n",
    "candidate_cot_df.to_csv('data/candidate_cot_dataset.csv', index=False)"
   ],
   "id": "ab3becd769b99c73",
   "outputs": [],
   "execution_count": 17
  }
 ],
 "metadata": {
  "kernelspec": {
   "display_name": "venv",
   "language": "python",
   "name": "venv"
  },
  "language_info": {
   "codemirror_mode": {
    "name": "ipython",
    "version": 2
   },
   "file_extension": ".py",
   "mimetype": "text/x-python",
   "name": "python",
   "nbconvert_exporter": "python",
   "pygments_lexer": "ipython2",
   "version": "2.7.6"
  }
 },
 "nbformat": 4,
 "nbformat_minor": 5
}
